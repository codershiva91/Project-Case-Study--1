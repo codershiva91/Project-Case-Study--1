{
  "nbformat": 4,
  "nbformat_minor": 0,
  "metadata": {
    "colab": {
      "provenance": [],
      "authorship_tag": "ABX9TyNQ5HoTEDB9hzjCCt7w3fEY",
      "include_colab_link": true
    },
    "kernelspec": {
      "name": "python3",
      "display_name": "Python 3"
    },
    "language_info": {
      "name": "python"
    }
  },
  "cells": [
    {
      "cell_type": "markdown",
      "metadata": {
        "id": "view-in-github",
        "colab_type": "text"
      },
      "source": [
        "<a href=\"https://colab.research.google.com/github/codershiva91/Project-Case-Study--1/blob/main/Project_Case_Study_1.ipynb\" target=\"_parent\"><img src=\"https://colab.research.google.com/assets/colab-badge.svg\" alt=\"Open In Colab\"/></a>"
      ]
    },
    {
      "cell_type": "markdown",
      "source": [
        "First Of All Import all the Requied Library"
      ],
      "metadata": {
        "id": "-EEqKGPNd3bz"
      }
    },
    {
      "cell_type": "code",
      "execution_count": 15,
      "metadata": {
        "id": "JREYdAVscThQ"
      },
      "outputs": [],
      "source": [
        "import numpy as np\n",
        "import matplotlib.pyplot as plt\n",
        "import pandas as pd\n",
        "import seaborn as sns\n"
      ]
    },
    {
      "cell_type": "markdown",
      "source": [
        "Library for matrix rank"
      ],
      "metadata": {
        "id": "obpxEPezeICJ"
      }
    },
    {
      "cell_type": "code",
      "source": [
        "from numpy.linalg import matrix_rank"
      ],
      "metadata": {
        "id": "4iUh66SQeUd9"
      },
      "execution_count": 16,
      "outputs": []
    },
    {
      "cell_type": "markdown",
      "source": [
        "# Step 1: Let us define the unknown flow directions as variables\n",
        "Assume x1, x2, x3 are the unknown flow values (micro liters/min)\n",
        "Construct the system based on conservation of flow at nodes\n",
        "\n",
        "#calculating the Nodes\n",
        "At node 1 (middle-left junction): x1 + 30 = 50  --> x1 = 20\n",
        "At node 2 (middle-right junction): x2 + 50 = 60  --> x2 = 10\n",
        "At node 3 (bottom junction): x1 - x2 + x3 = 40  --> 20 - 10 + x3 = 40 --> x3 = 30\n"
      ],
      "metadata": {
        "id": "sQKI8otreeSW"
      }
    },
    {
      "cell_type": "code",
      "source": [
        "# Let’s assume unknowns at 3 junctions (label junctions where flows meet/split)\n",
        "# Assume flow directions arbitrarily (if sign becomes negative, it means direction is opposite)\n",
        "\n",
        "# At node 1 (middle-left junction): x1 + 30 = 50  --> x1 = 20\n",
        "# At node 2 (middle-right junction): x2 + 50 = 60  --> x2 = 10\n",
        "# At node 3 (bottom junction): x1 - x2 + x3 = 40  --> 20 - 10 + x3 = 40 --> x3 = 30\n",
        "\n",
        "from numpy.linalg import matrix_rank,norm\n",
        "\n",
        "#define matrix A and B\n",
        "\n",
        "A=np.array([[1,0,0],\n",
        "           [0,1,0],\n",
        "           [1,-1,1]\n",
        "          ])\n",
        "B=np.array([20,13,40])\n"
      ],
      "metadata": {
        "id": "WIMOLbmlhK3j"
      },
      "execution_count": 17,
      "outputs": []
    },
    {
      "cell_type": "markdown",
      "source": [
        "# System:\n",
        "# x1 + 30 = 50      => x1       = 20\n",
        "# x2 + 50 = 60      =>     x2   = 10\n",
        "# x1 - x2 + x3 = 40 => x1 - x2 + x3 = 40"
      ],
      "metadata": {
        "id": "guoW6bIjlfxx"
      }
    },
    {
      "cell_type": "markdown",
      "source": [
        "Step 2:\n",
        "\n",
        "Lets Solve the Linear Sysrem\n"
      ],
      "metadata": {
        "id": "KYfnlRNCijGr"
      }
    },
    {
      "cell_type": "code",
      "source": [
        "X=np.linalg.solve(A,B)\n",
        "\n",
        "#Now lets Compute the norm of the unknown variable vector\n",
        "x_norm=norm(X)"
      ],
      "metadata": {
        "id": "YL0B9bZEiw7-"
      },
      "execution_count": 18,
      "outputs": []
    },
    {
      "cell_type": "markdown",
      "source": [
        "#Step 3:\n",
        "#Compute Ranks"
      ],
      "metadata": {
        "id": "Wwh3FhO2jNzu"
      }
    },
    {
      "cell_type": "code",
      "source": [
        "rank_A=matrix_rank(A)\n",
        "rank_AB=matrix_rank(np.column_stack((A,B)))"
      ],
      "metadata": {
        "id": "LBbiFhcvjL4E"
      },
      "execution_count": 19,
      "outputs": []
    },
    {
      "cell_type": "markdown",
      "source": [
        "#Step 4:\n",
        "#NOW COMPUTE NULLITY USING RANK-NULLITY THEOREM"
      ],
      "metadata": {
        "id": "oY9YCBTBj5cI"
      }
    },
    {
      "cell_type": "code",
      "source": [
        "nullity=A.shape[1]-rank_A\n",
        "\n",
        "X, x_norm, rank_A, rank_AB, nullity"
      ],
      "metadata": {
        "colab": {
          "base_uri": "https://localhost:8080/"
        },
        "id": "rt5UwSjXj1zB",
        "outputId": "85b41db5-7337-466c-9757-c5b7fc776a02"
      },
      "execution_count": 20,
      "outputs": [
        {
          "output_type": "execute_result",
          "data": {
            "text/plain": [
              "(array([20., 13., 33.]),\n",
              " np.float64(40.718546143004666),\n",
              " np.int64(3),\n",
              " np.int64(3),\n",
              " np.int64(0))"
            ]
          },
          "metadata": {},
          "execution_count": 20
        }
      ]
    },
    {
      "cell_type": "markdown",
      "source": [
        "# a)Unknown Flow Directions (Variables)\n",
        "Let the unknown flows at junctions be:\n",
        "x₁: flow from bottom-left to middle-left\n",
        "\n",
        "x₂: flow from middle-left to middle-right\n",
        "\n",
        "x₃: flow from middle-right to bottom-right\n",
        "\n",
        "#From the figure and conservation of flow at junctions:\n",
        "\n",
        "Top-left: x₁ + 30 = 50 ⇒ x₁ = 20\n",
        "\n",
        "Top-right: x₂ + 50 = 60 ⇒ x₂ = 10\n",
        "\n",
        "Bottom: x₁ - x₂ + x₃ = 40 ⇒ 20 - 10 + x₃ = 40 ⇒ x₃ = 30"
      ],
      "metadata": {
        "id": "vDpkSQQtloMg"
      }
    }
  ]
}